{
 "cells": [
  {
   "cell_type": "markdown",
   "id": "01ed85d7-a7f6-4b46-a5da-f512029ad48f",
   "metadata": {},
   "source": [
    "# Assignment parallel computing group 3"
   ]
  },
  {
   "cell_type": "code",
   "execution_count": 28,
   "id": "24bc9eda-41f6-49ef-8e49-6c47d39528b5",
   "metadata": {},
   "outputs": [
    {
     "data": {
      "text/plain": [
       "-0.0007830759576305497"
      ]
     },
     "execution_count": 28,
     "metadata": {},
     "output_type": "execute_result"
    }
   ],
   "source": [
    "import fake_enformer \n",
    "fake_enformer.predict('hg38:chr4:8848348:A:T')\n",
    "#  -0.0007830759576305497"
   ]
  },
  {
   "cell_type": "code",
   "execution_count": 33,
   "id": "32f279b8-e61e-48d7-aa1b-2b87de6a0485",
   "metadata": {},
   "outputs": [
    {
     "data": {
      "text/plain": [
       "-0.0007830759576305497"
      ]
     },
     "execution_count": 33,
     "metadata": {},
     "output_type": "execute_result"
    }
   ],
   "source": [
    "fake_enformer.predict('hg38:chr4:8848348:A:T')"
   ]
  },
  {
   "cell_type": "code",
   "execution_count": null,
   "id": "b80da32b-dac0-416b-a6af-c43f35d03503",
   "metadata": {},
   "outputs": [],
   "source": [
    "!cat /lustre1/project/stg_00079/teaching/data/snps.annotated.vcf"
   ]
  },
  {
   "cell_type": "markdown",
   "id": "fc217d22-d15c-43f9-b5f6-cda00d1e90fe",
   "metadata": {},
   "source": [
    "## Import libraries"
   ]
  },
  {
   "cell_type": "code",
   "execution_count": 14,
   "id": "08e2f4a7-5a32-4720-aa60-158b21b0d75b",
   "metadata": {},
   "outputs": [],
   "source": [
    "import vcfpy\n",
    "import fake_enformer \n",
    "import pandas as pd\n",
    "from multiprocessing import Pool\n",
    "import multiprocessing"
   ]
  },
  {
   "cell_type": "markdown",
   "id": "b3a6dfc0-9a12-4479-bb4b-06646c1788ab",
   "metadata": {},
   "source": [
    "## Configuration"
   ]
  },
  {
   "cell_type": "code",
   "execution_count": 35,
   "id": "0aa75a14-af9f-4e3a-a07b-703ff06831d6",
   "metadata": {},
   "outputs": [],
   "source": [
    "genome = \"hg38\"\n",
    "vcf_path = '/lustre1/project/stg_00079/teaching/data/snps.annotated.vcf'"
   ]
  },
  {
   "cell_type": "code",
   "execution_count": 36,
   "id": "d980d4eb-0c1e-496d-9f1c-999c8f8e13e7",
   "metadata": {},
   "outputs": [],
   "source": [
    "reader = vcfpy.Reader.from_path(vcf_path)"
   ]
  },
  {
   "cell_type": "code",
   "execution_count": 37,
   "id": "6aad2f33-9657-4036-9320-46feb92728dc",
   "metadata": {},
   "outputs": [],
   "source": [
    "def process_variant(variant_str):\n",
    "    \"\"\"Wrapper function for prediction\"\"\"\n",
    "    return fake_enformer.predict(variant_str)"
   ]
  },
  {
   "cell_type": "markdown",
   "id": "8f8df01f-47c7-4b56-a2bb-053b12c54411",
   "metadata": {},
   "source": [
    "### Generate all variant strings"
   ]
  },
  {
   "cell_type": "code",
   "execution_count": 38,
   "id": "e49f2878-7005-42b4-85a3-26696da8b8b6",
   "metadata": {
    "scrolled": true
   },
   "outputs": [],
   "source": [
    "variant_strings = []\n",
    "records = []\n",
    "\n",
    "for i, record in enumerate(reader):\n",
    "    assert len(record.ALT) == 1\n",
    "    chrom = record.CHROM\n",
    "    pos = record.POS\n",
    "    ref = record.REF\n",
    "    alt = record.ALT[0].value\n",
    "\n",
    "    variant_str = f\"{genome}:{chrom}:{pos}:{ref}:{alt}\"\n",
    "    variant_strings.append(variant_str)\n",
    "    records.append(record)\n",
    "\n",
    "    "
   ]
  },
  {
   "cell_type": "code",
   "execution_count": null,
   "id": "e425d18d-3cc2-4579-874d-f7bed6980653",
   "metadata": {},
   "outputs": [],
   "source": [
    "#variant_strings"
   ]
  },
  {
   "cell_type": "markdown",
   "id": "67d5e379-8d3b-46d9-9763-4554b3f4bfcc",
   "metadata": {},
   "source": [
    "## Multiprocessing"
   ]
  },
  {
   "cell_type": "code",
   "execution_count": 24,
   "id": "2c127552-5c9f-49e4-bc30-6891fe61d52a",
   "metadata": {},
   "outputs": [
    {
     "data": {
      "text/plain": [
       "72"
      ]
     },
     "execution_count": 24,
     "metadata": {},
     "output_type": "execute_result"
    }
   ],
   "source": [
    "# Create process pool\n",
    "num_processes = multiprocessing.cpu_count()\n",
    "num_processes"
   ]
  },
  {
   "cell_type": "code",
   "execution_count": null,
   "id": "fbb3f834-8043-4e7d-ac75-7831609fabaf",
   "metadata": {},
   "outputs": [],
   "source": [
    "with Pool(processes=num_processes,) as pool:\n",
    "    results = pool.map(fake_enformer.predict, variant_strings, chunksize=100)\n",
    "\n",
    "# Process results as needed\n",
    "print(f\"Processed {len(results)} variants\")"
   ]
  },
  {
   "cell_type": "code",
   "execution_count": 32,
   "id": "1b536e97-8d6e-453c-9044-52e7ae67ff76",
   "metadata": {},
   "outputs": [
    {
     "name": "stdout",
     "output_type": "stream",
     "text": [
      "[]\n"
     ]
    }
   ],
   "source": [
    "results = map(fake_enformer.predict, variant_strings)\n",
    "print(list(results))"
   ]
  },
  {
   "cell_type": "code",
   "execution_count": 27,
   "id": "0a94b2b4-038e-4728-9de9-0f40d2264b21",
   "metadata": {},
   "outputs": [],
   "source": [
    "for val in variant_strings:\n",
    "    fake_enformer.predict(value)\n"
   ]
  },
  {
   "cell_type": "markdown",
   "id": "0b2651f8-d835-4b3a-8df4-ac0d2684496f",
   "metadata": {},
   "source": [
    "## Save to new VCF"
   ]
  },
  {
   "cell_type": "code",
   "execution_count": null,
   "id": "b74c86b0-72a1-43a2-abd3-bc4cee395379",
   "metadata": {},
   "outputs": [],
   "source": [
    "new_header = reader.header.copy()\n",
    "new_header.add_info_line({\n",
    "    'ID': 'EF',\n",
    "    'Number': '1',\n",
    "    'Type': 'Float',\n",
    "    'Description': 'Enformer prediction score'\n",
    "})"
   ]
  },
  {
   "cell_type": "code",
   "execution_count": null,
   "id": "e357c257-8b94-4de1-be25-811efd0dfe52",
   "metadata": {},
   "outputs": [],
   "source": [
    "with vcfpy.Writer.from_path(\"snps_annotated_new.vcf, new_header) as writer:\n",
    "    for record, score in zip(records, results):\n",
    "        if score is not None:\n",
    "            # Add prediction to INFO field\n",
    "            record.INFO['EF'] = score\n",
    "        writer.write_record(record)\n",
    "\n",
    "print(f\"Successfully wrote {len(records)} variants to {output_vcf_path}\")"
   ]
  }
 ],
 "metadata": {
  "kernelspec": {
   "display_name": "large_omics_2025",
   "language": "python",
   "name": "large_omics_2025"
  },
  "language_info": {
   "codemirror_mode": {
    "name": "ipython",
    "version": 3
   },
   "file_extension": ".py",
   "mimetype": "text/x-python",
   "name": "python",
   "nbconvert_exporter": "python",
   "pygments_lexer": "ipython3",
   "version": "3.11.0"
  }
 },
 "nbformat": 4,
 "nbformat_minor": 5
}
